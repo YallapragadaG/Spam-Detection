{
 "cells": [
  {
   "cell_type": "code",
   "execution_count": 1,
   "metadata": {},
   "outputs": [
    {
     "name": "stdout",
     "output_type": "stream",
     "text": [
      "(5572, 2)\n"
     ]
    },
    {
     "data": {
      "text/html": [
       "<div>\n",
       "<style scoped>\n",
       "    .dataframe tbody tr th:only-of-type {\n",
       "        vertical-align: middle;\n",
       "    }\n",
       "\n",
       "    .dataframe tbody tr th {\n",
       "        vertical-align: top;\n",
       "    }\n",
       "\n",
       "    .dataframe thead th {\n",
       "        text-align: right;\n",
       "    }\n",
       "</style>\n",
       "<table border=\"1\" class=\"dataframe\">\n",
       "  <thead>\n",
       "    <tr style=\"text-align: right;\">\n",
       "      <th></th>\n",
       "      <th>Labels</th>\n",
       "      <th>Text</th>\n",
       "    </tr>\n",
       "  </thead>\n",
       "  <tbody>\n",
       "    <tr>\n",
       "      <th>0</th>\n",
       "      <td>ham</td>\n",
       "      <td>Go until jurong point, crazy.. Available only ...</td>\n",
       "    </tr>\n",
       "    <tr>\n",
       "      <th>1</th>\n",
       "      <td>ham</td>\n",
       "      <td>Ok lar... Joking wif u oni...</td>\n",
       "    </tr>\n",
       "    <tr>\n",
       "      <th>2</th>\n",
       "      <td>spam</td>\n",
       "      <td>Free entry in 2 a wkly comp to win FA Cup fina...</td>\n",
       "    </tr>\n",
       "    <tr>\n",
       "      <th>3</th>\n",
       "      <td>ham</td>\n",
       "      <td>U dun say so early hor... U c already then say...</td>\n",
       "    </tr>\n",
       "    <tr>\n",
       "      <th>4</th>\n",
       "      <td>ham</td>\n",
       "      <td>Nah I don't think he goes to usf, he lives aro...</td>\n",
       "    </tr>\n",
       "  </tbody>\n",
       "</table>\n",
       "</div>"
      ],
      "text/plain": [
       "  Labels                                               Text\n",
       "0    ham  Go until jurong point, crazy.. Available only ...\n",
       "1    ham                      Ok lar... Joking wif u oni...\n",
       "2   spam  Free entry in 2 a wkly comp to win FA Cup fina...\n",
       "3    ham  U dun say so early hor... U c already then say...\n",
       "4    ham  Nah I don't think he goes to usf, he lives aro..."
      ]
     },
     "execution_count": 1,
     "metadata": {},
     "output_type": "execute_result"
    }
   ],
   "source": [
    "#word2vec is a shallow two layered NN which converts text into vectors so that machine can understand our natural language. \n",
    "#word2vec creates dense vectors unlike Tf - Idf. \n",
    "\n",
    "import pandas as pd\n",
    "data_spam = pd.read_csv(\"Desktop/Dataset/spam.csv\",encoding ='latin-1')\n",
    "\n",
    "\n",
    "#we can observe that unnamed2, unnamed3, unnamed 4 has blank values, therefore we can drop these things.\n",
    "data_spam = data_spam.drop(columns=['Unnamed: 2', 'Unnamed: 3','Unnamed: 4'],axis = 1)\n",
    "\n",
    "\n",
    "#Changed the column names in a dataset\n",
    "data_spam.columns = [\"Labels\",\"Text\"]\n",
    "\n",
    "\n",
    "print(data_spam.shape)\n",
    "data_spam.head()"
   ]
  },
  {
   "cell_type": "code",
   "execution_count": 2,
   "metadata": {},
   "outputs": [],
   "source": [
    "import numpy as np\n",
    "from sklearn.model_selection import train_test_split\n",
    "import gensim\n",
    "import re\n",
    "import nltk\n",
    "\n",
    "\n",
    "data_spam['cleantext'] = data_spam['Text'].apply(lambda x: gensim.utils.simple_preprocess(x))    \n",
    "x_train,x_test,y_train,y_test = train_test_split(data_spam['cleantext'] , data_spam['Labels'],test_size = 0.2)"
   ]
  },
  {
   "cell_type": "code",
   "execution_count": 3,
   "metadata": {},
   "outputs": [
    {
     "name": "stderr",
     "output_type": "stream",
     "text": [
      "Using TensorFlow backend.\n"
     ]
    }
   ],
   "source": [
    "from keras.models import Sequential,load_model\n",
    "from keras.layers import Dense,LSTM,Embedding,Dropout,Bidirectional\n",
    "from keras.preprocessing.text import Tokenizer\n",
    "from keras.preprocessing.sequence import pad_sequences\n",
    "\n",
    "tokenizer = Tokenizer()#Tokenizer in keras helps to convert the text into sequence of numbers based on tf-idf or wordcount.\n",
    "tokenizer.fit_on_texts(x_train,)\n",
    "train_sequences = tokenizer.texts_to_sequences(x_train)# converting into sequence of vectors\n",
    "test_sequences = tokenizer.texts_to_sequences(x_test)\n",
    "train_data_seq = pad_sequences(train_sequences, maxlen = 100)\n",
    "test_data_seq = pad_sequences(test_sequences, maxlen = 100)"
   ]
  },
  {
   "cell_type": "code",
   "execution_count": 4,
   "metadata": {},
   "outputs": [],
   "source": [
    "from sklearn.preprocessing import LabelBinarizer\n",
    "binarizer = LabelBinarizer()\n",
    "binarizer.fit(y_train)\n",
    "# LabelBinarizer helps in converting coverting each label such as positive, negative ,neutral in twitter sets to unique numbers \n",
    "y_train = binarizer.transform(y_train)\n",
    "y_test = binarizer.transform(y_test)"
   ]
  },
  {
   "cell_type": "code",
   "execution_count": 5,
   "metadata": {},
   "outputs": [
    {
     "name": "stderr",
     "output_type": "stream",
     "text": [
      "/Users/Geethika/opt/anaconda3/lib/python3.7/site-packages/tensorflow/python/framework/indexed_slices.py:434: UserWarning: Converting sparse IndexedSlices to a dense Tensor of unknown shape. This may consume a large amount of memory.\n",
      "  \"Converting sparse IndexedSlices to a dense Tensor of unknown shape. \"\n"
     ]
    },
    {
     "name": "stdout",
     "output_type": "stream",
     "text": [
      "Train on 4457 samples, validate on 1115 samples\n",
      "Epoch 1/10\n",
      "4457/4457 [==============================] - 18s 4ms/step - loss: 0.2681 - accuracy: 0.9020 - precision: 0.3508 - recall: 0.2569 - val_loss: 0.0736 - val_accuracy: 0.9812 - val_precision: 0.7201 - val_recall: 0.5578\n",
      "Epoch 2/10\n",
      "4457/4457 [==============================] - 15s 3ms/step - loss: 0.0708 - accuracy: 0.9838 - precision: 0.8106 - recall: 0.6808 - val_loss: 0.0907 - val_accuracy: 0.9839 - val_precision: 0.8538 - val_recall: 0.7515\n",
      "Epoch 3/10\n",
      "4457/4457 [==============================] - 15s 3ms/step - loss: 0.0497 - accuracy: 0.9912 - precision: 0.8793 - recall: 0.7916 - val_loss: 0.1179 - val_accuracy: 0.9839 - val_precision: 0.8967 - val_recall: 0.8206\n",
      "Epoch 4/10\n",
      "4457/4457 [==============================] - 15s 3ms/step - loss: 0.0392 - accuracy: 0.9944 - precision: 0.9089 - recall: 0.8413 - val_loss: 0.1548 - val_accuracy: 0.9812 - val_precision: 0.9181 - val_recall: 0.8574\n",
      "Epoch 5/10\n",
      "4457/4457 [==============================] - 15s 3ms/step - loss: 0.0208 - accuracy: 0.9973 - precision: 0.9256 - recall: 0.8708 - val_loss: 0.1730 - val_accuracy: 0.9803 - val_precision: 0.9311 - val_recall: 0.8813\n",
      "Epoch 6/10\n",
      "4457/4457 [==============================] - 15s 3ms/step - loss: 0.0175 - accuracy: 0.9973 - precision: 0.9357 - recall: 0.8897 - val_loss: 0.2338 - val_accuracy: 0.9848 - val_precision: 0.9405 - val_recall: 0.8970\n",
      "Epoch 7/10\n",
      "4457/4457 [==============================] - 15s 3ms/step - loss: 0.0153 - accuracy: 0.9987 - precision: 0.9446 - recall: 0.9032 - val_loss: 0.2530 - val_accuracy: 0.9821 - val_precision: 0.9478 - val_recall: 0.9087\n",
      "Epoch 8/10\n",
      "4457/4457 [==============================] - 15s 3ms/step - loss: 0.0122 - accuracy: 0.9984 - precision: 0.9502 - recall: 0.9133 - val_loss: 0.2604 - val_accuracy: 0.9821 - val_precision: 0.9526 - val_recall: 0.9173\n",
      "Epoch 9/10\n",
      "4457/4457 [==============================] - 14s 3ms/step - loss: 0.0089 - accuracy: 0.9989 - precision: 0.9549 - recall: 0.9209 - val_loss: 0.3794 - val_accuracy: 0.9767 - val_precision: 0.9564 - val_recall: 0.9244\n",
      "Epoch 10/10\n",
      "4457/4457 [==============================] - 15s 3ms/step - loss: 0.0122 - accuracy: 0.9989 - precision: 0.9574 - recall: 0.9273 - val_loss: 0.4739 - val_accuracy: 0.9830 - val_precision: 0.9589 - val_recall: 0.9301\n"
     ]
    }
   ],
   "source": [
    "import tensorflow as tf\n",
    "\n",
    "model = Sequential()\n",
    "model.add(Embedding(len(tokenizer.index_word)+1,100))\n",
    "\n",
    "model.add(LSTM(100,dropout = 0, recurrent_dropout = 0))\n",
    "model.add(Dense(100, activation='relu'))\n",
    "model.add(Dropout(0.5))\n",
    "model.add(Dense(50, activation='relu'))\n",
    "model.add(Dropout(0.5))\n",
    "model.add(Dense(20, activation='relu'))\n",
    "model.add(Dropout(0.5))\n",
    "model.add(Dense(1, activation='sigmoid'))\n",
    "\n",
    "model.compile(loss='binary_crossentropy', optimizer='rmsprop', metrics=['accuracy',tf.keras.metrics.Precision(),tf.keras.metrics.Recall()])\n",
    "#one epoch is very huge to go forward and backwards in neural network \n",
    "#so we didvide the data into multiple sets and epoch helps in increasing the model accuracy.\n",
    "history = model.fit(train_data_seq,y_train,batch_size = 32,epochs =10,validation_data = (test_data_seq, y_test))"
   ]
  },
  {
   "cell_type": "code",
   "execution_count": 6,
   "metadata": {},
   "outputs": [
    {
     "data": {
      "image/png": "[encoded data removed]",
      "text/plain": [
       "<Figure size 432x288 with 1 Axes>"
      ]
     },
     "metadata": {
      "needs_background": "light"
     },
     "output_type": "display_data"
    }
   ],
   "source": [
    "import matplotlib.pyplot as plt\n",
    "\n",
    "plt.plot(history.history['loss'])\n",
    "\n",
    "plt.title('model loss')\n",
    "plt.ylabel('loss')\n",
    "plt.xlabel('epochs')\n",
    "plt.legend(['train'], loc='upper right')\n",
    "plt.tight_layout() \n",
    "plt.show()"
   ]
  }
 ],
 "metadata": {
  "kernelspec": {
   "display_name": "Python 3",
   "language": "python",
   "name": "python3"
  },
  "language_info": {
   "codemirror_mode": {
    "name": "ipython",
    "version": 3
   },
   "file_extension": ".py",
   "mimetype": "text/x-python",
   "name": "python",
   "nbconvert_exporter": "python",
   "pygments_lexer": "ipython3",
   "version": "3.7.7"
  }
 },
 "nbformat": 4,
 "nbformat_minor": 4
}
